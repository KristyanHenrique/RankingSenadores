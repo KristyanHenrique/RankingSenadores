{
 "cells": [
  {
   "cell_type": "code",
   "execution_count": 22,
   "id": "e7cdd022",
   "metadata": {},
   "outputs": [
    {
     "ename": "AttributeError",
     "evalue": "module 'sys' has no attribute 'setdefaultencoding'",
     "output_type": "error",
     "traceback": [
      "\u001b[1;31m---------------------------------------------------------------------------\u001b[0m",
      "\u001b[1;31mAttributeError\u001b[0m                            Traceback (most recent call last)",
      "Cell \u001b[1;32mIn[22], line 8\u001b[0m\n\u001b[0;32m      6\u001b[0m pd\u001b[38;5;241m.\u001b[39mset_option(\u001b[38;5;124m'\u001b[39m\u001b[38;5;124mmax_colwidth\u001b[39m\u001b[38;5;124m'\u001b[39m,\u001b[38;5;241m250\u001b[39m)\n\u001b[0;32m      7\u001b[0m pd\u001b[38;5;241m.\u001b[39mset_option(\u001b[38;5;124m'\u001b[39m\u001b[38;5;124mdisplay.max_rows\u001b[39m\u001b[38;5;124m'\u001b[39m,\u001b[38;5;241m90\u001b[39m)\n\u001b[1;32m----> 8\u001b[0m \u001b[43msys\u001b[49m\u001b[38;5;241;43m.\u001b[39;49m\u001b[43msetdefaultencoding\u001b[49m(\u001b[38;5;124m'\u001b[39m\u001b[38;5;124mutf-8\u001b[39m\u001b[38;5;124m'\u001b[39m)\n",
      "\u001b[1;31mAttributeError\u001b[0m: module 'sys' has no attribute 'setdefaultencoding'"
     ]
    }
   ],
   "source": [
    "import pandas as pd\n",
    "import subprocess\n",
    "import json\n",
    "import sys\n",
    "\n",
    "pd.set_option('max_colwidth',250)\n",
    "pd.set_option('display.max_rows',90)\n",
    "sys.setdefaultencoding('utf-8')"
   ]
  },
  {
   "cell_type": "markdown",
   "id": "c7e6c0cf",
   "metadata": {},
   "source": [
    "Explorando o Catalogo"
   ]
  },
  {
   "cell_type": "code",
   "execution_count": 2,
   "id": "ac895c7c",
   "metadata": {},
   "outputs": [],
   "source": [
    "cat = pd.read_csv(\"catalogo_de_dados.csv\", on_bad_lines='skip',sep=\";\")"
   ]
  },
  {
   "cell_type": "code",
   "execution_count": 3,
   "id": "0d1d121f",
   "metadata": {},
   "outputs": [],
   "source": [
    "categoriasSenadores = cat.query(\"nom_sub_categoria == 'Senadores'\")"
   ]
  },
  {
   "cell_type": "code",
   "execution_count": 4,
   "id": "f62b6117",
   "metadata": {},
   "outputs": [],
   "source": [
    "senadoresExercicio = categoriasSenadores.query(\"des_grupo_dados == 'Senadores em exercício'\")"
   ]
  },
  {
   "cell_type": "code",
   "execution_count": 5,
   "id": "2f8131dd",
   "metadata": {},
   "outputs": [],
   "source": [
    "conjSenadoresExercicio = senadoresExercicio.query(\"nom_conjunto_dados == 'Senadores em exercício' \")"
   ]
  },
  {
   "cell_type": "markdown",
   "id": "b0b732eb",
   "metadata": {},
   "source": [
    "Capturando Parlamentares em Exercicio"
   ]
  },
  {
   "cell_type": "code",
   "execution_count": 12,
   "id": "12130cd5",
   "metadata": {},
   "outputs": [
    {
     "ename": "TypeError",
     "evalue": "DataFrame.__init__() got an unexpected keyword argument 'encoding'",
     "output_type": "error",
     "traceback": [
      "\u001b[1;31m---------------------------------------------------------------------------\u001b[0m",
      "\u001b[1;31mTypeError\u001b[0m                                 Traceback (most recent call last)",
      "Cell \u001b[1;32mIn[12], line 4\u001b[0m\n\u001b[0;32m      2\u001b[0m resultado \u001b[38;5;241m=\u001b[39m subprocess\u001b[38;5;241m.\u001b[39mrun(comando, shell\u001b[38;5;241m=\u001b[39m\u001b[38;5;28;01mTrue\u001b[39;00m, text\u001b[38;5;241m=\u001b[39m\u001b[38;5;28;01mTrue\u001b[39;00m, capture_output\u001b[38;5;241m=\u001b[39m\u001b[38;5;28;01mTrue\u001b[39;00m)\n\u001b[0;32m      3\u001b[0m dados \u001b[38;5;241m=\u001b[39m json\u001b[38;5;241m.\u001b[39mloads(resultado\u001b[38;5;241m.\u001b[39mstdout)\n\u001b[1;32m----> 4\u001b[0m dados \u001b[38;5;241m=\u001b[39m \u001b[43mpd\u001b[49m\u001b[38;5;241;43m.\u001b[39;49m\u001b[43mDataFrame\u001b[49m\u001b[43m(\u001b[49m\u001b[43mdados\u001b[49m\u001b[43m,\u001b[49m\u001b[43mencoding\u001b[49m\u001b[38;5;241;43m=\u001b[39;49m\u001b[38;5;124;43m'\u001b[39;49m\u001b[38;5;124;43mutf-8-sig\u001b[39;49m\u001b[38;5;124;43m'\u001b[39;49m\u001b[43m)\u001b[49m\n\u001b[0;32m      5\u001b[0m dados \u001b[38;5;241m=\u001b[39m (dados\u001b[38;5;241m.\u001b[39mloc[\u001b[38;5;124m\"\u001b[39m\u001b[38;5;124mParlamentares\u001b[39m\u001b[38;5;124m\"\u001b[39m][\u001b[38;5;124m\"\u001b[39m\u001b[38;5;124mListaParlamentarEmExercicio\u001b[39m\u001b[38;5;124m\"\u001b[39m])\n\u001b[0;32m      6\u001b[0m dados \u001b[38;5;241m=\u001b[39m pd\u001b[38;5;241m.\u001b[39mDataFrame(dados[\u001b[38;5;124m\"\u001b[39m\u001b[38;5;124mParlamentar\u001b[39m\u001b[38;5;124m\"\u001b[39m])\n",
      "\u001b[1;31mTypeError\u001b[0m: DataFrame.__init__() got an unexpected keyword argument 'encoding'"
     ]
    }
   ],
   "source": [
    "comando = 'curl https://legis.senado.leg.br/dadosabertos/arquivos/ListaParlamentarEmExercicio.json'\n",
    "resultado = subprocess.run(comando, shell=True, text=True, capture_output=True)\n",
    "dados = json.loads(resultado.stdout)\n",
    "dados = pd.DataFrame(dados)\n",
    "dados = (dados.loc[\"Parlamentares\"][\"ListaParlamentarEmExercicio\"])\n",
    "dados = pd.DataFrame(dados[\"Parlamentar\"])\n",
    "saida = pd.DataFrame()\n",
    "for index,row in dados.iterrows():\n",
    "    IdentificacaoParlamentar = pd.DataFrame(row[\"IdentificacaoParlamentar\"])\n",
    "    Mandato = pd.DataFrame(row[\"Mandato\"])\n",
    "    concatenar = pd.concat([IdentificacaoParlamentar,Mandato])\n",
    "    saida = pd.concat([saida,concatenar])\n",
    "# dados = pd.json_normalize(dados)\n",
    "# dados = resultado.stdout\n",
    "# dados = pd.read_json(dados, orient='index')"
   ]
  },
  {
   "cell_type": "code",
   "execution_count": 9,
   "id": "fbd55f1c",
   "metadata": {},
   "outputs": [],
   "source": [
    "IdentificacaoParlamentar = dados[\"IdentificacaoParlamentar\"]\n",
    "Mandato = dados[\"Mandato\"]"
   ]
  },
  {
   "cell_type": "code",
   "execution_count": 10,
   "id": "3fb3d31d",
   "metadata": {},
   "outputs": [],
   "source": [
    "dadosTMP = pd.DataFrame() \n",
    "for i in range(0,81):\n",
    "    tmpIP = pd.DataFrame(IdentificacaoParlamentar[i])\n",
    "#     mpM = pd.DataFrame(Mandato[i])\n",
    "    tmpIP = tmpIP.reset_index()\n",
    "#     mpM = tmpM.reset_index()\n",
    "    tmpTel = tmpIP.iloc[0][\"Telefones\"]\n",
    "    try:\n",
    "        tmpTels = pd.DataFrame(tmpTel, index=[\"NumeroTelefone\",\"OrdemPublicacao\",\"IndicadorFax\"])\n",
    "    except:\n",
    "        tmpTels = pd.DataFrame(tmpTel[0], index=[\"NumeroTelefone\",\"OrdemPublicacao\",\"IndicadorFax\"])\n",
    "        \n",
    "    tmpIP.loc[0, \"Telefones\"] = tmpTels.loc[\"NumeroTelefone\", \"NumeroTelefone\"]\n",
    "    tmpIP.loc[0, \"CodigoBloco\"] = tmpIP.loc[1, \"Bloco\"]\n",
    "    tmpIP.loc[0, \"NomeBloco\"] = tmpIP.loc[2, \"Bloco\"]\n",
    "    tmpIP.loc[0, \"NomeApelido\"] = tmpIP.loc[3, \"Bloco\"]\n",
    "    tmpIP.loc[0, \"DataCriacao\"] = tmpIP.loc[4, \"Bloco\"]\n",
    "    tmpIP.drop([1,2,3,4], inplace=True)\n",
    "    #mpIP.join(tmpM)\n",
    "    dadosTMP = pd.concat([tmpIP,dadosTMP])\n",
    "    dados = dadosTMP.drop(columns=\"index\").reset_index().drop(columns=\"index\")"
   ]
  },
  {
   "cell_type": "code",
   "execution_count": 11,
   "id": "afb0eb4e",
   "metadata": {},
   "outputs": [],
   "source": [
    "dados.to_csv(\"../Dados/Senadores.csv\",encoding='utf-8-sig')"
   ]
  }
 ],
 "metadata": {
  "kernelspec": {
   "display_name": "Python 3 (ipykernel)",
   "language": "python",
   "name": "python3"
  },
  "language_info": {
   "codemirror_mode": {
    "name": "ipython",
    "version": 3
   },
   "file_extension": ".py",
   "mimetype": "text/x-python",
   "name": "python",
   "nbconvert_exporter": "python",
   "pygments_lexer": "ipython3",
   "version": "3.11.4"
  }
 },
 "nbformat": 4,
 "nbformat_minor": 5
}
